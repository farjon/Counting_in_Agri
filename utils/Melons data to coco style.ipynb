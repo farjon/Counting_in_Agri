{
 "cells": [
  {
   "cell_type": "code",
   "execution_count": 6,
   "metadata": {},
   "outputs": [],
   "source": [
    "import os\n",
    "import pandas as pd\n",
    "from glob import glob\n",
    "import cv2\n",
    "import json\n",
    "\n",
    "ANNO_DIR = 'C:/Users/owner/PycharmProjects/Counting_in_Agri/Data/Melons/detection annotations'\n",
    "IMAGE_DIR = 'C:/Users/owner/PycharmProjects/Counting_in_Agri/Data/Melons/images'\n",
    "save_annotations_path = 'C:/Users/owner/PycharmProjects/Counting_in_Agri/Data/Melons/coco/annotations'"
   ]
  },
  {
   "cell_type": "code",
   "execution_count": 7,
   "metadata": {},
   "outputs": [],
   "source": [
    "def xyxy2xywh(df_row):\n",
    "    x = df_row[0]\n",
    "    y = df_row[1]\n",
    "    w = df_row[2]-df_row[0]\n",
    "    h = df_row[3]-df_row[1]\n",
    "    return x, y, w, h"
   ]
  },
  {
   "cell_type": "code",
   "execution_count": 9,
   "metadata": {},
   "outputs": [],
   "source": [
    "sets = {'train', 'val', 'test'}\n",
    "categories = [{'supercategory': None, 'id': 1, 'name': 'Melons'}]\n",
    "for current_set in sets:\n",
    "    image_id = 0\n",
    "    images = []\n",
    "    annotations_id = 0\n",
    "    annotations = []\n",
    "    json_file = os.path.join(save_annotations_path, 'instances_' + current_set + '.json') \n",
    "    set_anno_dir = os.path.join(ANNO_DIR, current_set)\n",
    "    set_image_dir = os.path.join(IMAGE_DIR, current_set)\n",
    "    for csv_file in glob(os.path.join(set_anno_dir, '*csv')):\n",
    "        image_name = csv_file.split('\\\\')[-1].split('.')[0] + '.JPG'\n",
    "        csv_annoations = pd.read_csv(csv_file)\n",
    "        image = cv2.imread(os.path.join(set_image_dir, image_name))\n",
    "        image_h, image_w, _ = image.shape\n",
    "        images.append({\n",
    "            'file_name': image_name, 'height': image_h, 'width': image_w,\n",
    "            'id': image_id\n",
    "        })\n",
    "        image_anno = []\n",
    "        for i, row in csv_annoations.iterrows():\n",
    "            x,y,w,h = xyxy2xywh(row)\n",
    "            ann = {'area': w*h, 'iscrowd': 0, 'image_id':\n",
    "                    image_id, 'bbox': [x, y, w, h],\n",
    "                    'category_id': 1, 'id': annotations_id, 'ignore': 0}\n",
    "            annotations.append(ann)\n",
    "            annotations_id += 1\n",
    "        image_id += 1\n",
    "    json_dict = {\n",
    "        'categories': categories,\n",
    "        'images': images,\n",
    "        'annotations': annotations\n",
    "    }\n",
    "    json_fp = open(json_file, 'w')\n",
    "    json_str = json.dumps(json_dict)\n",
    "    json_fp.write(json_str)\n"
   ]
  }
 ],
 "metadata": {
  "kernelspec": {
   "display_name": "Python 3",
   "language": "python",
   "name": "python3"
  },
  "language_info": {
   "codemirror_mode": {
    "name": "ipython",
    "version": 3
   },
   "file_extension": ".py",
   "mimetype": "text/x-python",
   "name": "python",
   "nbconvert_exporter": "python",
   "pygments_lexer": "ipython3",
   "version": "3.6.5"
  }
 },
 "nbformat": 4,
 "nbformat_minor": 4
}
